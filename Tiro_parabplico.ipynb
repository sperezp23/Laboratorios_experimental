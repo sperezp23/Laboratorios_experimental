{
 "cells": [
  {
   "cell_type": "code",
   "execution_count": 60,
   "id": "048d5daa",
   "metadata": {},
   "outputs": [],
   "source": [
    "# Librerías\n",
    "import numpy as np\n",
    "import pandas as pd"
   ]
  },
  {
   "cell_type": "code",
   "execution_count": 61,
   "id": "df1b51b7",
   "metadata": {},
   "outputs": [],
   "source": [
    "def error_de_la_velocidad_cronometro_cm_s(base_de_datos):\n",
    "    incertidumbre_distancia_cm = 0.1\n",
    "    tiempo_de_reaccion_s = 0.16*2  \n",
    "    incertidumbre_angulo_rad = np.deg2rad(1) \n",
    "\n",
    "\n",
    "    error_distancia = incertidumbre_distancia_cm / (np.cos(base_de_datos['angulo_[rad]']) * base_de_datos['tiempo_cronometro_[s]'])\n",
    "    error_tiempo = - tiempo_de_reaccion_s * base_de_datos['distancia_[cm]'] / (np.cos(base_de_datos['angulo_[rad]']) * base_de_datos['tiempo_cronometro_[s]'] ** 2)\n",
    "    error_angulo = incertidumbre_angulo_rad * (base_de_datos['distancia_[cm]'] / base_de_datos['tiempo_cronometro_[s]']) * (np.cos(base_de_datos['angulo_[rad]'])  ** -1) * np.tan(base_de_datos['angulo_[rad]'])\n",
    "\n",
    "    error_velocidad_cronometro_cm_s = np.sqrt( (error_distancia)**2 + (error_tiempo)**2 + (error_angulo)**2)\n",
    "    base_de_datos['incertidumbre_velocidad_cronometro_[m/s]'] = error_velocidad_cronometro_cm_s * 1e-2\n",
    "\n",
    "    return base_de_datos"
   ]
  },
  {
   "cell_type": "code",
   "execution_count": 62,
   "id": "f8c0e006",
   "metadata": {},
   "outputs": [],
   "source": [
    "altura_1_df = pd.read_excel('Tiro parabolico.xlsx', sheet_name='Hoja2')\n",
    "altura_2_df = pd.read_excel('Tiro parabolico.xlsx', sheet_name='Hoja3')\n",
    "altura_3_df = pd.read_excel('Tiro parabolico.xlsx', sheet_name='Hoja4')\n",
    "altura_4_df = pd.read_excel('Tiro parabolico.xlsx', sheet_name='Hoja5')\n",
    "altura_5_df = pd.read_excel('Tiro parabolico.xlsx', sheet_name='Hoja6')"
   ]
  },
  {
   "cell_type": "code",
   "execution_count": 63,
   "id": "88f3f0a5",
   "metadata": {},
   "outputs": [],
   "source": [
    "altura_1_df.columns =  altura_1_df.columns.str.lower().str.replace(' ', '_')\n",
    "altura_2_df.columns =  altura_2_df.columns.str.lower().str.replace(' ', '_')\n",
    "altura_3_df.columns =  altura_3_df.columns.str.lower().str.replace(' ', '_')\n",
    "altura_4_df.columns =  altura_4_df.columns.str.lower().str.replace(' ', '_')\n",
    "altura_5_df.columns =  altura_5_df.columns.str.lower().str.replace(' ', '_')"
   ]
  },
  {
   "cell_type": "code",
   "execution_count": 64,
   "id": "41233bfc",
   "metadata": {},
   "outputs": [],
   "source": [
    "altura_1_df['angulo_[rad]'] = np.deg2rad(altura_1_df['angulo_[grados°]'])\n",
    "altura_2_df['angulo_[rad]'] = np.deg2rad(altura_2_df['angulo_[grados°]'])\n",
    "altura_3_df['angulo_[rad]'] = np.deg2rad(altura_3_df['angulo_[grados°]'])\n",
    "altura_4_df['angulo_[rad]'] = np.deg2rad(altura_4_df['angulo_[grados°]'])\n",
    "altura_5_df['angulo_[rad]'] = np.deg2rad(altura_5_df['angulo_[grados°]'])"
   ]
  },
  {
   "cell_type": "code",
   "execution_count": 65,
   "id": "884a9f3d",
   "metadata": {},
   "outputs": [],
   "source": [
    "altura_1_df['velocidad_cronometro_[cm/s]'] = (altura_1_df['distancia_[cm]'] / altura_1_df['tiempo_cronometro_[s]']) * (1 / np.cos(altura_1_df['angulo_[rad]']))\n",
    "altura_2_df['velocidad_cronometro_[cm/s]'] = (altura_2_df['distancia_[cm]'] / altura_2_df['tiempo_cronometro_[s]']) * (1 / np.cos(altura_2_df['angulo_[rad]']))\n",
    "altura_3_df['velocidad_cronometro_[cm/s]'] = (altura_3_df['distancia_[cm]'] / altura_3_df['tiempo_cronometro_[s]']) * (1 / np.cos(altura_3_df['angulo_[rad]']))\n",
    "altura_4_df['velocidad_cronometro_[cm/s]'] = (altura_4_df['distancia_[cm]'] / altura_4_df['tiempo_cronometro_[s]']) * (1 / np.cos(altura_4_df['angulo_[rad]']))\n",
    "altura_5_df['velocidad_cronometro_[cm/s]'] = (altura_5_df['distancia_[cm]'] / altura_5_df['tiempo_cronometro_[s]']) * (1 / np.cos(altura_5_df['angulo_[rad]']))"
   ]
  },
  {
   "cell_type": "code",
   "execution_count": 66,
   "id": "4cd8d28a",
   "metadata": {},
   "outputs": [],
   "source": [
    "altura_1_df = error_de_la_velocidad_cronometro_cm_s(altura_1_df)\n",
    "altura_2_df = error_de_la_velocidad_cronometro_cm_s(altura_2_df)\n",
    "altura_3_df = error_de_la_velocidad_cronometro_cm_s(altura_3_df)\n",
    "altura_4_df = error_de_la_velocidad_cronometro_cm_s(altura_4_df)\n",
    "altura_5_df = error_de_la_velocidad_cronometro_cm_s(altura_5_df)"
   ]
  },
  {
   "cell_type": "code",
   "execution_count": 70,
   "id": "416e02f4",
   "metadata": {},
   "outputs": [],
   "source": [
    "altura_1_df['velocidad_compuerta_[m/s]'] = (altura_1_df['diamentro_[mm]']) / (altura_1_df['tiempo_haz_[µs]']) * 1e3\n",
    "altura_2_df['velocidad_compuerta_[m/s]'] = (altura_2_df['diamentro_[mm]']) / (altura_2_df['tiempo_haz_[µs]']) * 1e3\n",
    "altura_3_df['velocidad_compuerta_[m/s]'] = (altura_3_df['diamentro_[mm]']) / (altura_3_df['tiempo_haz_[µs]']) * 1e3\n",
    "altura_4_df['velocidad_compuerta_[m/s]'] = (altura_4_df['diamentro_[mm]']) / (altura_4_df['tiempo_haz_[µs]']) * 1e3\n",
    "altura_5_df['velocidad_compuerta_[m/s]'] = (altura_5_df['diamentro_[mm]']) / (altura_5_df['tiempo_haz_[µs]']) * 1e3"
   ]
  }
 ],
 "metadata": {
  "kernelspec": {
   "display_name": "Python 3",
   "language": "python",
   "name": "python3"
  },
  "language_info": {
   "codemirror_mode": {
    "name": "ipython",
    "version": 3
   },
   "file_extension": ".py",
   "mimetype": "text/x-python",
   "name": "python",
   "nbconvert_exporter": "python",
   "pygments_lexer": "ipython3",
   "version": "3.13.3"
  }
 },
 "nbformat": 4,
 "nbformat_minor": 5
}

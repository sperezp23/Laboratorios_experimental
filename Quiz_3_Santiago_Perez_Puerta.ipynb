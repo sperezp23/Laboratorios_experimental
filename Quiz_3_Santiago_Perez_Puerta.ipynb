{
 "cells": [
  {
   "cell_type": "markdown",
   "id": "ea461eab",
   "metadata": {},
   "source": [
    "# Quiz 3 fisica experimental: Santiago Perez Puerta - CC: 1017237029"
   ]
  },
  {
   "cell_type": "markdown",
   "id": "54394192",
   "metadata": {},
   "source": [
    "## Punto 1\n",
    "$(0.0045±0.000064001) [m]$ redondeado con dos cifras significaticas es igual a: $(450±6.4)×10^{−5} [m]$ \n",
    "​"
   ]
  },
  {
   "cell_type": "markdown",
   "id": "454a44e1",
   "metadata": {},
   "source": [
    "## Punto 2"
   ]
  },
  {
   "cell_type": "code",
   "execution_count": 1,
   "id": "3d72bda2",
   "metadata": {},
   "outputs": [
    {
     "name": "stdout",
     "output_type": "stream",
     "text": [
      "RESPUESTAS:\n",
      "\n",
      "Promedio: 111.3 [mm]\n",
      "Error efectivo:2.2953092263232073 [mm]\n"
     ]
    }
   ],
   "source": [
    "import numpy as np\n",
    "\n",
    "medidas_longitud_mm = np.array([110, 111, 109, 112, 110, 114, 108, 115, 114, 110])\n",
    "error_medidas_longitud_mm = 1\n",
    "\n",
    "promedio_longitud_mm = medidas_longitud_mm.mean()\n",
    "\n",
    "error_estandar = np.sqrt(((medidas_longitud_mm - promedio_longitud_mm)**2) / (medidas_longitud_mm.__len__()*(medidas_longitud_mm.__len__() -1) )).sum()\n",
    "error_efectivo = np.sqrt(error_estandar**2 + error_medidas_longitud_mm**2)\n",
    "\n",
    "print(f'RESPUESTAS:\\n\\nPromedio: {promedio_longitud_mm} [mm]\\nError efectivo:{error_efectivo} [mm]')"
   ]
  },
  {
   "cell_type": "markdown",
   "id": "ea01992c",
   "metadata": {},
   "source": [
    "## Punto 3"
   ]
  },
  {
   "cell_type": "code",
   "execution_count": 2,
   "id": "ee11cb5d",
   "metadata": {},
   "outputs": [
    {
     "name": "stdout",
     "output_type": "stream",
     "text": [
      "RESPUESTAS\n",
      "\n",
      "Media: 7\n",
      "Mediana: 7.5\n",
      "Moda: 1\n",
      "Desviación estandar muestral: 4.88339021582343\n",
      "\n"
     ]
    },
    {
     "data": {
      "image/png": "[encoded data removed]",
      "text/plain": [
       "<Figure size 640x480 with 1 Axes>"
      ]
     },
     "metadata": {},
     "output_type": "display_data"
    }
   ],
   "source": [
    "import numpy as np\n",
    "import statistics\n",
    "import matplotlib.pyplot as plt\n",
    "import seaborn as sns\n",
    "\n",
    "datos = np.array([1, 10, 6, 2, 14, 14, 15, 13, 7, 6, 13, 8, 14, 8, 4, 3, 1, 9, 1, 2])\n",
    "\n",
    "media = statistics.mean(datos)\n",
    "mediana = statistics.median(datos)\n",
    "moda = statistics.mode(datos)\n",
    "std = np.std(datos)\n",
    "\n",
    "print(f'''RESPUESTAS\\n\\nMedia: {media}\n",
    "Mediana: {mediana}\n",
    "Moda: {moda}\n",
    "Desviación estandar muestral: {std}\\n''')\n",
    "\n",
    "sns.histplot(datos, bins= 5)\n",
    "plt.show()"
   ]
  }
 ],
 "metadata": {
  "kernelspec": {
   "display_name": "Python 3",
   "language": "python",
   "name": "python3"
  },
  "language_info": {
   "codemirror_mode": {
    "name": "ipython",
    "version": 3
   },
   "file_extension": ".py",
   "mimetype": "text/x-python",
   "name": "python",
   "nbconvert_exporter": "python",
   "pygments_lexer": "ipython3",
   "version": "3.13.3"
  }
 },
 "nbformat": 4,
 "nbformat_minor": 5
}

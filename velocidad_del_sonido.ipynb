{
 "cells": [
  {
   "cell_type": "code",
   "execution_count": 8,
   "id": "50182d9e",
   "metadata": {},
   "outputs": [],
   "source": [
    "import pandas as pd\n",
    "import numpy as np\n",
    "import math\n",
    "\n",
    "def format_with_uncertainty(value, error, unidad, max_error_digits=2):\n",
    "    \"\"\"\n",
    "    Formatea un valor con su incertidumbre siguiendo las reglas de notación científica.\n",
    "    \n",
    "    Args:\n",
    "        value (float): Valor medido\n",
    "        error (float): Incertidumbre del valor\n",
    "        max_error_digits (int): Número máximo de cifras significativas en el error\n",
    "    \n",
    "    Returns:\n",
    "        str: Cadena formateada en notación científica\n",
    "    \"\"\"\n",
    "    if pd.isna(value) or pd.isna(error) or error == 0:\n",
    "        return f\"{value:.2e}\"\n",
    "    \n",
    "    # Encontrar el orden de magnitud del error\n",
    "    error_order = math.floor(math.log10(abs(error)))\n",
    "    \n",
    "    # Calcular el factor de escala para redondear el error\n",
    "    scale_factor = 10 ** (error_order - max_error_digits + 1)\n",
    "    \n",
    "    # Redondear el error al número deseado de cifras significativas\n",
    "    rounded_error = round(error / scale_factor) * scale_factor\n",
    "    \n",
    "    # Determinar el orden de magnitud común (basado en el valor principal)\n",
    "    if value != 0:\n",
    "        value_order = math.floor(math.log10(abs(value)))\n",
    "    else:\n",
    "        value_order = error_order\n",
    "    \n",
    "    # Escalar ambos valores al mismo orden de magnitud\n",
    "    common_scale = 10 ** value_order\n",
    "    scaled_value = value / common_scale\n",
    "    scaled_error = rounded_error / common_scale\n",
    "    \n",
    "    # Determinar el número de decimales necesarios\n",
    "    if error_order >= value_order:\n",
    "        decimals = max_error_digits - 1\n",
    "    else:\n",
    "        decimals = value_order - error_order + max_error_digits - 1\n",
    "    \n",
    "    decimals = max(0, decimals)  # No puede ser negativo\n",
    "    \n",
    "    # Formatear el resultado\n",
    "    if value_order == 0:\n",
    "        return f\"({scaled_value:.{decimals}f} ± {scaled_error:.{decimals}f}) [{unidad}]\"\n",
    "    else:\n",
    "        return f\"({scaled_value:.{decimals}f} ± {scaled_error:.{decimals}f}) × 10^{value_order} [{unidad}]\"\n",
    "\n",
    "def format_dataframe_with_uncertainty(df, value_col, error_col, unidad, cifras_significativas = 2, result_col='formatted'):\n",
    "    \"\"\"\n",
    "    Aplica el formateo con incertidumbre a un DataFrame completo.\n",
    "    \n",
    "    Args:\n",
    "        df (pd.DataFrame): DataFrame con los datos\n",
    "        value_col (str): Nombre de la columna con los valores\n",
    "        error_col (str): Nombre de la columna con las incertidumbres\n",
    "        result_col (str): Nombre de la columna resultado\n",
    "    \n",
    "    Returns:\n",
    "        pd.DataFrame: DataFrame con la columna formateada añadida\n",
    "    \"\"\"\n",
    "    df_result = df.copy()\n",
    "    df_result[result_col] = df.apply(\n",
    "        lambda row: format_with_uncertainty(row[value_col], row[error_col], unidad, cifras_significativas), \n",
    "        axis=1\n",
    "    )\n",
    "    return df_result\n",
    "\n",
    "def generar_archivo_cientifico(path, distancia_m = 1):\n",
    "    tiempos_df = tiempos_df = pd.read_csv(path, delimiter= ';', dtype=float, usecols=[0])\n",
    "\n",
    "    error_tiempo_s = 20e-6\n",
    "    error_distancia_m = 1e-3 \n",
    "    velocidad_sonido_m_s = distancia_m / tiempos_df\n",
    "    error_velocidad_m_s = velocidad_sonido_m_s * np.sqrt((error_distancia_m/distancia_m)**2 + (error_tiempo_s/tiempos_df)**2)\n",
    "\n",
    "    datos_df = pd.DataFrame()\n",
    "    datos_df['tiempo'] = tiempos_df\n",
    "    datos_df['distancia'] = distancia_m\n",
    "    datos_df['error_distancia'] = error_distancia_m\n",
    "    datos_df['error_tiempo'] = error_tiempo_s\n",
    "    datos_df['velocidad'] = velocidad_sonido_m_s\n",
    "    datos_df['error_velocidad'] = error_velocidad_m_s\n",
    "\n",
    "    tiempo_formato_df = format_dataframe_with_uncertainty(datos_df, 'tiempo', 'error_tiempo', 's', cifras_significativas=1, result_col='tiempo_cientifico')\n",
    "    distancia_formato_df = format_dataframe_with_uncertainty(tiempo_formato_df, 'distancia', 'error_distancia', 'm', cifras_significativas=1, result_col='distancia_cientifica')\n",
    "    datos_formato_df = format_dataframe_with_uncertainty(distancia_formato_df, 'velocidad', 'error_velocidad', 'm/s', result_col='velocidad_cientifica')\n",
    "\n",
    "    return datos_df, datos_formato_df[['tiempo_cientifico', 'distancia_cientifica',  'velocidad_cientifica']]\n"
   ]
  },
  {
   "cell_type": "code",
   "execution_count": 9,
   "id": "4757f7ae",
   "metadata": {},
   "outputs": [],
   "source": [
    "velocidad_sonido_100cm_df, velocidad_sonido_cientifica_100cm_df = generar_archivo_cientifico(r'Datos\\Tiempos 100cm.txt', distancia_m=2)\n",
    "velocidad_sonido_80cm_df , velocidad_sonido_cientifica_80cm_df = generar_archivo_cientifico(r'Datos\\Tiempos 80cm.txt', distancia_m=1.6)\n",
    "velocidad_sonido_60cm_df , velocidad_sonido_cientifica_60cm_df = generar_archivo_cientifico(r'Datos\\Tiempos 60cm.txt', distancia_m=1.2)\n",
    "velocidad_sonido_40cm_df , velocidad_sonido_cientifica_40cm_df = generar_archivo_cientifico(r'Datos\\Tiempos 40cm.txt', distancia_m=0.8)\n",
    "velocidad_sonido_20cm_df , velocidad_sonido_cientifica_20cm_df = generar_archivo_cientifico(r'Datos\\Tiempos 20cm.txt', distancia_m=0.4)"
   ]
  },
  {
   "cell_type": "code",
   "execution_count": 10,
   "id": "ac47c7a3",
   "metadata": {},
   "outputs": [
    {
     "name": "stdout",
     "output_type": "stream",
     "text": [
      "velocidad [m/s] = 337.2788229406481\n",
      "Error_velocidad [m/s] = 0.001\n"
     ]
    }
   ],
   "source": [
    "print(f'velocidad [m/s] = {velocidad_sonido_100cm_df.velocidad.mean()}\\nError_velocidad [m/s] = {np.sqrt(velocidad_sonido_100cm_df.error_distancia.max()**2 + velocidad_sonido_100cm_df.error_distancia.std())}')"
   ]
  },
  {
   "cell_type": "code",
   "execution_count": 11,
   "id": "2f5de2cc",
   "metadata": {},
   "outputs": [
    {
     "name": "stdout",
     "output_type": "stream",
     "text": [
      "velocidad [m/s] = 334.5524789060634\n",
      "Error_velocidad [m/s] = 0.001\n"
     ]
    }
   ],
   "source": [
    "print(f'velocidad [m/s] = {velocidad_sonido_80cm_df.velocidad.mean()}\\nError_velocidad [m/s] = {np.sqrt(velocidad_sonido_80cm_df.error_distancia.max()**2 + velocidad_sonido_80cm_df.error_distancia.std())}')"
   ]
  },
  {
   "cell_type": "code",
   "execution_count": 12,
   "id": "100d6fac",
   "metadata": {},
   "outputs": [
    {
     "name": "stdout",
     "output_type": "stream",
     "text": [
      "velocidad [m/s] = 316.7992553601711\n",
      "Error_velocidad [m/s] = 0.001\n"
     ]
    }
   ],
   "source": [
    "print(f'velocidad [m/s] = {velocidad_sonido_60cm_df.velocidad.mean()}\\nError_velocidad [m/s] = {np.sqrt(velocidad_sonido_60cm_df.error_distancia.max()**2 + velocidad_sonido_60cm_df.error_distancia.std())}')"
   ]
  },
  {
   "cell_type": "code",
   "execution_count": 13,
   "id": "b06a2b97",
   "metadata": {},
   "outputs": [
    {
     "name": "stdout",
     "output_type": "stream",
     "text": [
      "velocidad [m/s] = 303.86329663994223\n",
      "Error_velocidad [m/s] = 0.001\n"
     ]
    }
   ],
   "source": [
    "print(f'velocidad [m/s] = {velocidad_sonido_40cm_df.velocidad.mean()}\\nError_velocidad [m/s] = {np.sqrt(velocidad_sonido_40cm_df.error_distancia.max()**2 + velocidad_sonido_40cm_df.error_distancia.std())}')"
   ]
  },
  {
   "cell_type": "code",
   "execution_count": null,
   "id": "b3397fdc",
   "metadata": {},
   "outputs": [
    {
     "name": "stdout",
     "output_type": "stream",
     "text": [
      "velocidad [m/s] = 345.8471158863136\n",
      "Error_velocidad [m/s] = 0.001\n"
     ]
    }
   ],
   "source": [
    "print(f'velocidad [m/s] = {velocidad_sonido_20cm_df.velocidad.mean()}\\nError_velocidad [m/s] = {np.sqrt(velocidad_sonido_20cm_df.error_distancia.max()**2 + velocidad_sonido_20cm_df.error_distancia.std())}')"
   ]
  },
  {
   "cell_type": "code",
   "execution_count": 20,
   "id": "8de26ee3",
   "metadata": {},
   "outputs": [
    {
     "name": "stdout",
     "output_type": "stream",
     "text": [
      "velocidad [m/s] = 327.6681939466277\n",
      "Error_velocidad [m/s] = 15.19893242126313\n"
     ]
    }
   ],
   "source": [
    "velocidad_sonido_promedio = np.array([velocidad_sonido_100cm_df.velocidad.mean(),\n",
    "velocidad_sonido_80cm_df.velocidad.mean(),\n",
    "velocidad_sonido_60cm_df.velocidad.mean(),\n",
    "velocidad_sonido_40cm_df.velocidad.mean(),\n",
    "velocidad_sonido_20cm_df.velocidad.mean()]).mean()\n",
    "\n",
    "velocidad_sonido_std = np.array([velocidad_sonido_100cm_df.velocidad.mean(),\n",
    "velocidad_sonido_80cm_df.velocidad.mean(),\n",
    "velocidad_sonido_60cm_df.velocidad.mean(),\n",
    "velocidad_sonido_40cm_df.velocidad.mean(),\n",
    "velocidad_sonido_20cm_df.velocidad.mean()]).std()\n",
    "\n",
    "print(f'velocidad [m/s] = {velocidad_sonido_promedio}\\nError_velocidad [m/s] = {np.sqrt(velocidad_sonido_std**2 + velocidad_sonido_20cm_df.error_distancia.std())}')"
   ]
  }
 ],
 "metadata": {
  "kernelspec": {
   "display_name": "Python 3",
   "language": "python",
   "name": "python3"
  },
  "language_info": {
   "codemirror_mode": {
    "name": "ipython",
    "version": 3
   },
   "file_extension": ".py",
   "mimetype": "text/x-python",
   "name": "python",
   "nbconvert_exporter": "python",
   "pygments_lexer": "ipython3",
   "version": "3.13.3"
  }
 },
 "nbformat": 4,
 "nbformat_minor": 5
}
